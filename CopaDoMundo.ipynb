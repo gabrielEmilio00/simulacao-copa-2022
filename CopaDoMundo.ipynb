{
 "cells": [
  {
   "cell_type": "code",
   "execution_count": 3,
   "metadata": {},
   "outputs": [
    {
     "data": {
      "text/html": [
       "<div>\n",
       "<style scoped>\n",
       "    .dataframe tbody tr th:only-of-type {\n",
       "        vertical-align: middle;\n",
       "    }\n",
       "\n",
       "    .dataframe tbody tr th {\n",
       "        vertical-align: top;\n",
       "    }\n",
       "\n",
       "    .dataframe thead th {\n",
       "        text-align: right;\n",
       "    }\n",
       "</style>\n",
       "<table border=\"1\" class=\"dataframe\">\n",
       "  <thead>\n",
       "    <tr style=\"text-align: right;\">\n",
       "      <th></th>\n",
       "      <th>A</th>\n",
       "      <th>B</th>\n",
       "      <th>C</th>\n",
       "      <th>D</th>\n",
       "      <th>E</th>\n",
       "      <th>F</th>\n",
       "      <th>G</th>\n",
       "      <th>H</th>\n",
       "    </tr>\n",
       "  </thead>\n",
       "  <tbody>\n",
       "    <tr>\n",
       "      <th>0</th>\n",
       "      <td>CAT|1442.0</td>\n",
       "      <td>EUA|1635.0</td>\n",
       "      <td>ARG|1770.7</td>\n",
       "      <td>AUS|1483.7</td>\n",
       "      <td>ALE|1659.0</td>\n",
       "      <td>BEL|1821.9</td>\n",
       "      <td>BRA|1837.6</td>\n",
       "      <td>COR|1526.0</td>\n",
       "    </tr>\n",
       "    <tr>\n",
       "      <th>1</th>\n",
       "      <td>EQU|1463.7</td>\n",
       "      <td>ING|1737.5</td>\n",
       "      <td>ARA|1435.7</td>\n",
       "      <td>DIN|1665.5</td>\n",
       "      <td>COS|1500.1</td>\n",
       "      <td>CAN|1473.8</td>\n",
       "      <td>CAM|1485.0</td>\n",
       "      <td>GAN|1393.5</td>\n",
       "    </tr>\n",
       "    <tr>\n",
       "      <th>2</th>\n",
       "      <td>HOL|1679.4</td>\n",
       "      <td>IRA|1558.6</td>\n",
       "      <td>MEX|1649.6</td>\n",
       "      <td>FRA|1764.9</td>\n",
       "      <td>ESP|1716.9</td>\n",
       "      <td>CRO|1632.2</td>\n",
       "      <td>SUI|1621.4</td>\n",
       "      <td>POR|1678.7</td>\n",
       "    </tr>\n",
       "    <tr>\n",
       "      <th>3</th>\n",
       "      <td>SEN|1584.6</td>\n",
       "      <td>GAL|1582.1</td>\n",
       "      <td>POL|1546.2</td>\n",
       "      <td>TUN|1507.9</td>\n",
       "      <td>JAP|1554.7</td>\n",
       "      <td>MAR|1558.4</td>\n",
       "      <td>SER|1549.5</td>\n",
       "      <td>URU|1641.0</td>\n",
       "    </tr>\n",
       "  </tbody>\n",
       "</table>\n",
       "</div>"
      ],
      "text/plain": [
       "            A           B           C           D           E           F  \\\n",
       "0  CAT|1442.0  EUA|1635.0  ARG|1770.7  AUS|1483.7  ALE|1659.0  BEL|1821.9   \n",
       "1  EQU|1463.7  ING|1737.5  ARA|1435.7  DIN|1665.5  COS|1500.1  CAN|1473.8   \n",
       "2  HOL|1679.4  IRA|1558.6  MEX|1649.6  FRA|1764.9  ESP|1716.9  CRO|1632.2   \n",
       "3  SEN|1584.6  GAL|1582.1  POL|1546.2  TUN|1507.9  JAP|1554.7  MAR|1558.4   \n",
       "\n",
       "            G           H  \n",
       "0  BRA|1837.6  COR|1526.0  \n",
       "1  CAM|1485.0  GAN|1393.5  \n",
       "2  SUI|1621.4  POR|1678.7  \n",
       "3  SER|1549.5  URU|1641.0  "
      ]
     },
     "execution_count": 3,
     "metadata": {},
     "output_type": "execute_result"
    }
   ],
   "source": [
    "import pandas as pd\n",
    "\n",
    "df = pd.read_csv(\"https://raw.githubusercontent.com/digitalinnovationone/live-coding-evitando-o-7x1-com-python-e-sql/main/data.csv\")\n",
    "df.head()"
   ]
  },
  {
   "cell_type": "code",
   "execution_count": 32,
   "metadata": {},
   "outputs": [
    {
     "name": "stdout",
     "output_type": "stream",
     "text": [
      "03/12 - 16h - Ahmad Bin Ali Stadium\n"
     ]
    }
   ],
   "source": [
    "import random, math\n",
    "\n",
    "class CopaDoMundo:\n",
    "    # horas = [\"7h\", \"10h\", \"12h\", \"13h\", \"16h\"]\n",
    "\n",
    "    # @staticmethod\n",
    "    # def HorarioJogo():\n",
    "    #     CopaDoMundo.sorteioHoras = round(random.uniform(0, 4))\n",
    "    #     print(CopaDoMundo.sorteioHoras)\n",
    "    #     CopaDoMundo.horario = CopaDoMundo.horas[CopaDoMundo.sorteioHoras]\n",
    "    #     return CopaDoMundo.horario\n",
    "    \n",
    "    # @staticmethod\n",
    "    # def DataJogo():\n",
    "    #     CopaDoMundo.oitavas = {}\n",
    "    @staticmethod\n",
    "    def InfoJogo():\n",
    "        data = [\"03/12\", \"04/12\", \"05/12\", \"06/12\"]\n",
    "        horario = [\"12h\", \"16h\"]\n",
    "        estadio = [\"Khalifa International Stadium\", \"Lusail Stadium\", \"Al Bayt Stadium\", \"Al Thumama Stadium\", \n",
    "                    \"Ahmad Bin Ali Stadium\", \"Al Janoub Stadium\", \"Education City Stadium\", \"Stadium 974\"]\n",
    "\n",
    "        oitavas = {\n",
    "            \"1A\": data[0] + \" - \" + horario[0] + \" - \" + estadio[0],\n",
    "            \"1B\": data[0] + \" - \" + horario[1] + \" - \" + estadio[4],\n",
    "            # \"2A\": data[1] + \" - \" +\n",
    "            }\n",
    "        return oitavas\n",
    "        # , \"1B\", \"2A\", \"2B\", \"3A\", \"3B\", \"4A\" \"4B\"}\n",
    "\n",
    "print(CopaDoMundo.InfoJogo()[\"1B\"])"
   ]
  },
  {
   "cell_type": "code",
   "execution_count": 4,
   "metadata": {},
   "outputs": [],
   "source": [
    "import random\n",
    "\n",
    "class Team: \n",
    "    BEST_SCORE = 1837.6 # BRASIL(BRA)\n",
    "    def __init__(self, cellData):\n",
    "        teamData = cellData.split('|')\n",
    "        self.name = teamData[0]\n",
    "        self.score = float(teamData[1])\n",
    "\n",
    "    def motivate(self):\n",
    "        self.lastMotivation = random.uniform(70, (self.score * 100) / Team.BEST_SCORE)\n",
    "        return self.lastMotivation\n",
    "\n"
   ]
  },
  {
   "cell_type": "code",
   "execution_count": 5,
   "metadata": {},
   "outputs": [
    {
     "name": "stdout",
     "output_type": "stream",
     "text": [
      "Grupo A: EQU - (78.66) SEN - (78.01) HOL - (75.29) CAT - (71.95) \n",
      "Grupo B: ING - (86.98) IRA - (84.36) EUA - (79.55) GAL - (79.13) \n",
      "Grupo C: ARG - (94.59) MEX - (83.78) POL - (75.30) ARA - (71.35) \n",
      "Grupo D: DIN - (90.58) FRA - (86.48) TUN - (77.40) AUS - (76.71) \n",
      "Grupo E: ESP - (87.00) COS - (75.84) ALE - (74.89) JAP - (71.25) \n",
      "Grupo F: BEL - (83.97) CRO - (78.39) CAN - (72.41) MAR - (71.56) \n",
      "Grupo G: SUI - (79.36) CAM - (77.94) BRA - (72.78) SER - (71.89) \n",
      "Grupo H: POR - (90.39) URU - (89.02) COR - (76.72) GAN - (75.73) \n"
     ]
    }
   ],
   "source": [
    "bestTeamsByGroup = {}\n",
    "\n",
    "for label,content in df.items(): \n",
    "    team1 = Team(content[0])\n",
    "    team2 = Team(content[1])\n",
    "    team3 = Team(content[2])\n",
    "    team4 = Team(content[3])  \n",
    "\n",
    "    bestTeamsByGroup[label] = sorted([team1, team2, team3, team4], key=Team.motivate, reverse=True)\n",
    "\n",
    "for grupo, motivatedTeams in bestTeamsByGroup.items(): \n",
    "    print(f'Grupo {grupo}: ', end=\"\")\n",
    "    for team in motivatedTeams: \n",
    "        print(f'{team.name} - ({team.lastMotivation:.2f}) ', end=\"\")\n",
    "    print()"
   ]
  },
  {
   "cell_type": "code",
   "execution_count": 6,
   "metadata": {},
   "outputs": [
    {
     "name": "stdout",
     "output_type": "stream",
     "text": [
      "EQU (74.96) x IRA (70.35)\n",
      "ARG (85.51) x FRA (83.23)\n",
      "ESP (75.45) x CRO (71.59)\n",
      "SUI (70.21) x URU (87.11)\n",
      "ING (79.56) x SEN (84.18)\n",
      "DIN (85.36) x MEX (88.41)\n",
      "BEL (73.21) x COS (75.20)\n",
      "POR (74.59) x CAM (80.17)\n"
     ]
    }
   ],
   "source": [
    "team1A = bestTeamsByGroup['A'][0]\n",
    "team2A = bestTeamsByGroup['A'][1]\n",
    "team1B = bestTeamsByGroup['B'][0]\n",
    "team2B = bestTeamsByGroup['B'][1]\n",
    "team1C = bestTeamsByGroup['C'][0]\n",
    "team2C = bestTeamsByGroup['C'][1]\n",
    "team1D = bestTeamsByGroup['D'][0]\n",
    "team2D = bestTeamsByGroup['D'][1]\n",
    "team1E = bestTeamsByGroup['E'][0]\n",
    "team2E = bestTeamsByGroup['E'][1]\n",
    "team1F = bestTeamsByGroup['F'][0]\n",
    "team2F = bestTeamsByGroup['F'][1]\n",
    "team1G = bestTeamsByGroup['G'][0]\n",
    "team2G = bestTeamsByGroup['G'][1]\n",
    "team1H = bestTeamsByGroup['H'][0]\n",
    "team2H = bestTeamsByGroup['H'][1]\n",
    "\n",
    "quarter1 = team1A if team1A.motivate() > team2B.motivate() else team2B\n",
    "quarter2 = team1C if team1C.motivate() > team2D.motivate() else team2D\n",
    "quarter3 = team1E if team1E.motivate() > team2F.motivate() else team2F\n",
    "quarter4 = team1G if team1G.motivate() > team2H.motivate() else team2H\n",
    "quarter5 = team1B if team1B.motivate() > team2A.motivate() else team2A\n",
    "quarter6 = team1D if team1D.motivate() > team2C.motivate() else team2C\n",
    "quarter7 = team1F if team1F.motivate() > team2E.motivate() else team2E\n",
    "quarter8 = team1H if team1H.motivate() > team2G.motivate() else team2G\n",
    "\n",
    "print(f'{team1A.name} ({team1A.lastMotivation:.2f}) x {team2B.name} ({team2B.lastMotivation:.2f})')\n",
    "print(f'{team1C.name} ({team1C.lastMotivation:.2f}) x {team2D.name} ({team2D.lastMotivation:.2f})')\n",
    "print(f'{team1E.name} ({team1E.lastMotivation:.2f}) x {team2F.name} ({team2F.lastMotivation:.2f})')\n",
    "print(f'{team1G.name} ({team1G.lastMotivation:.2f}) x {team2H.name} ({team2H.lastMotivation:.2f})')\n",
    "print(f'{team1B.name} ({team1B.lastMotivation:.2f}) x {team2A.name} ({team2A.lastMotivation:.2f})')\n",
    "print(f'{team1D.name} ({team1D.lastMotivation:.2f}) x {team2C.name} ({team2C.lastMotivation:.2f})')\n",
    "print(f'{team1F.name} ({team1F.lastMotivation:.2f}) x {team2E.name} ({team2E.lastMotivation:.2f})')\n",
    "print(f'{team1H.name} ({team1H.lastMotivation:.2f}) x {team2G.name} ({team2G.lastMotivation:.2f})')\n"
   ]
  },
  {
   "cell_type": "code",
   "execution_count": 7,
   "metadata": {},
   "outputs": [
    {
     "name": "stdout",
     "output_type": "stream",
     "text": [
      "EQU (77.23) x ARG (77.65)\n",
      "ESP (84.62) x URU (75.44)\n",
      "SEN (78.69) x MEX (74.39)\n",
      "COS (71.39) x CAM (77.66)\n"
     ]
    }
   ],
   "source": [
    "semi1A = quarter1 if quarter1.motivate() > quarter2.motivate() else quarter2\n",
    "semi1B = quarter3 if quarter3.motivate() > quarter4.motivate() else quarter4\n",
    "semi2A = quarter5 if quarter5.motivate() > quarter6.motivate() else quarter6\n",
    "semi2B = quarter7 if quarter7.motivate() > quarter8.motivate() else quarter8\n",
    "\n",
    "print(f'{quarter1.name} ({quarter1.lastMotivation:.2f}) x {quarter2.name} ({quarter2.lastMotivation:.2f})')\n",
    "print(f'{quarter3.name} ({quarter3.lastMotivation:.2f}) x {quarter4.name} ({quarter4.lastMotivation:.2f})')\n",
    "print(f'{quarter5.name} ({quarter5.lastMotivation:.2f}) x {quarter6.name} ({quarter6.lastMotivation:.2f})')\n",
    "print(f'{quarter7.name} ({quarter7.lastMotivation:.2f}) x {quarter8.name} ({quarter8.lastMotivation:.2f})')"
   ]
  },
  {
   "cell_type": "code",
   "execution_count": 8,
   "metadata": {},
   "outputs": [
    {
     "name": "stdout",
     "output_type": "stream",
     "text": [
      "ARG (86.38) x ESP (76.17)\n",
      "SEN (72.08) x CAM (76.58)\n"
     ]
    }
   ],
   "source": [
    "finalista1 = None\n",
    "terceiro1 = None\n",
    "if semi1A.motivate() > semi1B.motivate():\n",
    "    finalista1 = semi1A\n",
    "    terceiro1 = semi1B\n",
    "else:\n",
    "    finalista1 = semi1B\n",
    "    terceiro1 = semi1A\n",
    "\n",
    "finalista2 = None\n",
    "terceiro2 = None\n",
    "if semi2A.motivate() > semi2B.motivate():\n",
    "    finalista2 = semi2A\n",
    "    terceiro2 = semi2B\n",
    "else: \n",
    "    finalista2 = semi2B\n",
    "    terceiro2 = semi2A\n",
    "\n",
    "print(f'{semi1A.name} ({semi1A.lastMotivation:.2f}) x {semi1B.name} ({semi1B.lastMotivation:.2f})')\n",
    "print(f'{semi2A.name} ({semi2A.lastMotivation:.2f}) x {semi2B.name} ({semi2B.lastMotivation:.2f})')"
   ]
  },
  {
   "cell_type": "code",
   "execution_count": 9,
   "metadata": {},
   "outputs": [
    {
     "name": "stdout",
     "output_type": "stream",
     "text": [
      "Grande Final: ARG (80.14) x CAM (70.48)\n",
      "Disputa de terceiro lugar: ESP (90.75) x SEN (77.17)\n"
     ]
    }
   ],
   "source": [
    "winner = finalista1 if finalista1.motivate() > finalista2.motivate() else finalista2\n",
    "second = finalista1 if finalista1.lastMotivation < finalista2.lastMotivation else finalista2\n",
    "\n",
    "third = terceiro1 if terceiro1.motivate() > terceiro2.motivate() else terceiro2\n",
    "fourth = terceiro1 if terceiro1.lastMotivation < terceiro2.lastMotivation else terceiro2\n",
    "\n",
    "print(f'Grande Final: {finalista1.name} ({finalista1.lastMotivation:.2f}) x {finalista2.name} ({finalista2.lastMotivation:.2f})')\n",
    "print(f'Disputa de terceiro lugar: {terceiro1.name} ({terceiro1.lastMotivation:.2f}) x {terceiro2.name} ({terceiro2.lastMotivation:.2f})')"
   ]
  },
  {
   "cell_type": "code",
   "execution_count": 10,
   "metadata": {},
   "outputs": [
    {
     "name": "stdout",
     "output_type": "stream",
     "text": [
      "1º lugar: ARG\n",
      "2º lugar: CAM\n",
      "3º lugar: ESP\n"
     ]
    }
   ],
   "source": [
    "print(f'1º lugar: {winner.name}')\n",
    "print(f'2º lugar: {second.name}')\n",
    "print(f'3º lugar: {third.name}')"
   ]
  }
 ],
 "metadata": {
  "kernelspec": {
   "display_name": "Python 3.10.5 64-bit",
   "language": "python",
   "name": "python3"
  },
  "language_info": {
   "codemirror_mode": {
    "name": "ipython",
    "version": 3
   },
   "file_extension": ".py",
   "mimetype": "text/x-python",
   "name": "python",
   "nbconvert_exporter": "python",
   "pygments_lexer": "ipython3",
   "version": "3.10.5"
  },
  "orig_nbformat": 4,
  "vscode": {
   "interpreter": {
    "hash": "f8a8e54a0170a12dec51dd7d151c14f4499bc6eefba2b8b73868459fdf234532"
   }
  }
 },
 "nbformat": 4,
 "nbformat_minor": 2
}
