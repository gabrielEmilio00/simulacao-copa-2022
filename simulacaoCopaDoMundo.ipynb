{
 "cells": [
  {
   "cell_type": "code",
   "execution_count": 45,
   "metadata": {},
   "outputs": [
    {
     "data": {
      "text/html": [
       "<div>\n",
       "<style scoped>\n",
       "    .dataframe tbody tr th:only-of-type {\n",
       "        vertical-align: middle;\n",
       "    }\n",
       "\n",
       "    .dataframe tbody tr th {\n",
       "        vertical-align: top;\n",
       "    }\n",
       "\n",
       "    .dataframe thead th {\n",
       "        text-align: right;\n",
       "    }\n",
       "</style>\n",
       "<table border=\"1\" class=\"dataframe\">\n",
       "  <thead>\n",
       "    <tr style=\"text-align: right;\">\n",
       "      <th></th>\n",
       "      <th>A</th>\n",
       "      <th>B</th>\n",
       "      <th>C</th>\n",
       "      <th>D</th>\n",
       "      <th>E</th>\n",
       "      <th>F</th>\n",
       "      <th>G</th>\n",
       "      <th>H</th>\n",
       "    </tr>\n",
       "  </thead>\n",
       "  <tbody>\n",
       "    <tr>\n",
       "      <th>0</th>\n",
       "      <td>CAT|1442.0</td>\n",
       "      <td>EUA|1635.0</td>\n",
       "      <td>ARG|1770.7</td>\n",
       "      <td>AUS|1483.7</td>\n",
       "      <td>ALE|1659.0</td>\n",
       "      <td>BEL|1821.9</td>\n",
       "      <td>BRA|1837.6</td>\n",
       "      <td>COR|1526.0</td>\n",
       "    </tr>\n",
       "    <tr>\n",
       "      <th>1</th>\n",
       "      <td>EQU|1463.7</td>\n",
       "      <td>ING|1737.5</td>\n",
       "      <td>ARA|1435.7</td>\n",
       "      <td>DIN|1665.5</td>\n",
       "      <td>COS|1500.1</td>\n",
       "      <td>CAN|1473.8</td>\n",
       "      <td>CAM|1485.0</td>\n",
       "      <td>GAN|1393.5</td>\n",
       "    </tr>\n",
       "    <tr>\n",
       "      <th>2</th>\n",
       "      <td>HOL|1679.4</td>\n",
       "      <td>IRA|1558.6</td>\n",
       "      <td>MEX|1649.6</td>\n",
       "      <td>FRA|1764.9</td>\n",
       "      <td>ESP|1716.9</td>\n",
       "      <td>CRO|1632.2</td>\n",
       "      <td>SUI|1621.4</td>\n",
       "      <td>POR|1678.7</td>\n",
       "    </tr>\n",
       "    <tr>\n",
       "      <th>3</th>\n",
       "      <td>SEN|1584.6</td>\n",
       "      <td>GAL|1582.1</td>\n",
       "      <td>POL|1546.2</td>\n",
       "      <td>TUN|1507.9</td>\n",
       "      <td>JAP|1554.7</td>\n",
       "      <td>MAR|1558.4</td>\n",
       "      <td>SER|1549.5</td>\n",
       "      <td>URU|1641.0</td>\n",
       "    </tr>\n",
       "  </tbody>\n",
       "</table>\n",
       "</div>"
      ],
      "text/plain": [
       "            A           B           C           D           E           F  \\\n",
       "0  CAT|1442.0  EUA|1635.0  ARG|1770.7  AUS|1483.7  ALE|1659.0  BEL|1821.9   \n",
       "1  EQU|1463.7  ING|1737.5  ARA|1435.7  DIN|1665.5  COS|1500.1  CAN|1473.8   \n",
       "2  HOL|1679.4  IRA|1558.6  MEX|1649.6  FRA|1764.9  ESP|1716.9  CRO|1632.2   \n",
       "3  SEN|1584.6  GAL|1582.1  POL|1546.2  TUN|1507.9  JAP|1554.7  MAR|1558.4   \n",
       "\n",
       "            G           H  \n",
       "0  BRA|1837.6  COR|1526.0  \n",
       "1  CAM|1485.0  GAN|1393.5  \n",
       "2  SUI|1621.4  POR|1678.7  \n",
       "3  SER|1549.5  URU|1641.0  "
      ]
     },
     "execution_count": 45,
     "metadata": {},
     "output_type": "execute_result"
    }
   ],
   "source": [
    "import pandas as pd\n",
    "\n",
    "df = pd.read_csv(\"https://raw.githubusercontent.com/digitalinnovationone/live-coding-evitando-o-7x1-com-python-e-sql/main/data.csv\")\n",
    "df.head()"
   ]
  },
  {
   "cell_type": "code",
   "execution_count": 46,
   "metadata": {},
   "outputs": [],
   "source": [
    "import random\n",
    "\n",
    "class Team: \n",
    "    BEST_SCORE = 1837.6 # BRASIL(BRA)\n",
    "    def __init__(self, cellData):\n",
    "        teamData = cellData.split('|')\n",
    "        self.name = teamData[0]\n",
    "        self.score = float(teamData[1])\n",
    "\n",
    "    def motivate(self):\n",
    "        self.lastMotivation = random.uniform(70, (self.score * 100) / Team.BEST_SCORE)\n",
    "        return self.lastMotivation\n",
    "\n"
   ]
  },
  {
   "cell_type": "code",
   "execution_count": 47,
   "metadata": {},
   "outputs": [
    {
     "name": "stdout",
     "output_type": "stream",
     "text": [
      "Grupo A: HOL - (75.66) SEN - (75.23) CAT - (72.64) EQU - (71.54) \n",
      "Grupo B: GAL - (84.00) EUA - (83.34) IRA - (82.50) ING - (74.95) \n",
      "Grupo C: MEX - (84.29) ARA - (78.09) ARG - (74.18) POL - (70.14) \n",
      "Grupo D: FRA - (87.24) TUN - (79.14) DIN - (76.84) AUS - (75.59) \n",
      "Grupo E: ALE - (85.13) ESP - (79.57) JAP - (77.80) COS - (76.14) \n",
      "Grupo F: BEL - (94.82) CAN - (78.07) MAR - (75.99) CRO - (71.32) \n",
      "Grupo G: BRA - (97.48) CAM - (77.30) SUI - (75.71) SER - (71.42) \n",
      "Grupo H: POR - (88.01) URU - (77.81) COR - (74.20) GAN - (72.21) \n"
     ]
    }
   ],
   "source": [
    "bestTeamsByGroup = {}\n",
    "\n",
    "for label,content in df.items(): \n",
    "    team1 = Team(content[0])\n",
    "    team2 = Team(content[1])\n",
    "    team3 = Team(content[2])\n",
    "    team4 = Team(content[3])  \n",
    "\n",
    "    bestTeamsByGroup[label] = sorted([team1, team2, team3, team4], key=Team.motivate, reverse=True)\n",
    "\n",
    "for grupo, motivatedTeams in bestTeamsByGroup.items(): \n",
    "    print(f'Grupo {grupo}: ', end=\"\")\n",
    "    for team in motivatedTeams: \n",
    "        print(f'{team.name} - ({team.lastMotivation:.2f}) ', end=\"\")\n",
    "    print()"
   ]
  },
  {
   "cell_type": "code",
   "execution_count": 48,
   "metadata": {},
   "outputs": [
    {
     "name": "stdout",
     "output_type": "stream",
     "text": [
      "HOL (72.77) x EUA (76.54)\n",
      "MEX (88.00) x TUN (70.81)\n",
      "ALE (75.55) x CAN (73.77)\n",
      "BRA (72.92) x URU (70.39)\n",
      "GAL (80.35) x SEN (74.42)\n",
      "FRA (82.23) x ARA (71.28)\n",
      "BEL (74.44) x ESP (70.89)\n",
      "POR (70.82) x CAM (72.63)\n"
     ]
    }
   ],
   "source": [
    "team1A = bestTeamsByGroup['A'][0]\n",
    "team2A = bestTeamsByGroup['A'][1]\n",
    "team1B = bestTeamsByGroup['B'][0]\n",
    "team2B = bestTeamsByGroup['B'][1]\n",
    "team1C = bestTeamsByGroup['C'][0]\n",
    "team2C = bestTeamsByGroup['C'][1]\n",
    "team1D = bestTeamsByGroup['D'][0]\n",
    "team2D = bestTeamsByGroup['D'][1]\n",
    "team1E = bestTeamsByGroup['E'][0]\n",
    "team2E = bestTeamsByGroup['E'][1]\n",
    "team1F = bestTeamsByGroup['F'][0]\n",
    "team2F = bestTeamsByGroup['F'][1]\n",
    "team1G = bestTeamsByGroup['G'][0]\n",
    "team2G = bestTeamsByGroup['G'][1]\n",
    "team1H = bestTeamsByGroup['H'][0]\n",
    "team2H = bestTeamsByGroup['H'][1]\n",
    "\n",
    "quarter1 = team1A if team1A.motivate() > team2B.motivate() else team2B\n",
    "quarter2 = team1C if team1C.motivate() > team2D.motivate() else team2D\n",
    "quarter3 = team1E if team1E.motivate() > team2F.motivate() else team2F\n",
    "quarter4 = team1G if team1G.motivate() > team2H.motivate() else team2H\n",
    "quarter5 = team1B if team1B.motivate() > team2A.motivate() else team2A\n",
    "quarter6 = team1D if team1D.motivate() > team2C.motivate() else team2C\n",
    "quarter7 = team1F if team1F.motivate() > team2E.motivate() else team2E\n",
    "quarter8 = team1H if team1H.motivate() > team2G.motivate() else team2G\n",
    "\n",
    "print(f'{team1A.name} ({team1A.lastMotivation:.2f}) x {team2B.name} ({team2B.lastMotivation:.2f})')\n",
    "print(f'{team1C.name} ({team1C.lastMotivation:.2f}) x {team2D.name} ({team2D.lastMotivation:.2f})')\n",
    "print(f'{team1E.name} ({team1E.lastMotivation:.2f}) x {team2F.name} ({team2F.lastMotivation:.2f})')\n",
    "print(f'{team1G.name} ({team1G.lastMotivation:.2f}) x {team2H.name} ({team2H.lastMotivation:.2f})')\n",
    "print(f'{team1B.name} ({team1B.lastMotivation:.2f}) x {team2A.name} ({team2A.lastMotivation:.2f})')\n",
    "print(f'{team1D.name} ({team1D.lastMotivation:.2f}) x {team2C.name} ({team2C.lastMotivation:.2f})')\n",
    "print(f'{team1F.name} ({team1F.lastMotivation:.2f}) x {team2E.name} ({team2E.lastMotivation:.2f})')\n",
    "print(f'{team1H.name} ({team1H.lastMotivation:.2f}) x {team2G.name} ({team2G.lastMotivation:.2f})')\n"
   ]
  },
  {
   "cell_type": "code",
   "execution_count": 49,
   "metadata": {},
   "outputs": [
    {
     "name": "stdout",
     "output_type": "stream",
     "text": [
      "EUA (74.19) x MEX (82.03)\n",
      "ALE (70.38) x BRA (78.94)\n",
      "GAL (76.88) x FRA (83.57)\n",
      "BEL (98.79) x CAM (80.65)\n"
     ]
    }
   ],
   "source": [
    "semi1A = quarter1 if quarter1.motivate() > quarter2.motivate() else quarter2\n",
    "semi1B = quarter3 if quarter3.motivate() > quarter4.motivate() else quarter4\n",
    "semi2A = quarter5 if quarter5.motivate() > quarter6.motivate() else quarter6\n",
    "semi2B = quarter7 if quarter7.motivate() > quarter8.motivate() else quarter8\n",
    "\n",
    "print(f'{quarter1.name} ({quarter1.lastMotivation:.2f}) x {quarter2.name} ({quarter2.lastMotivation:.2f})')\n",
    "print(f'{quarter3.name} ({quarter3.lastMotivation:.2f}) x {quarter4.name} ({quarter4.lastMotivation:.2f})')\n",
    "print(f'{quarter5.name} ({quarter5.lastMotivation:.2f}) x {quarter6.name} ({quarter6.lastMotivation:.2f})')\n",
    "print(f'{quarter7.name} ({quarter7.lastMotivation:.2f}) x {quarter8.name} ({quarter8.lastMotivation:.2f})')"
   ]
  },
  {
   "cell_type": "code",
   "execution_count": 50,
   "metadata": {},
   "outputs": [
    {
     "name": "stdout",
     "output_type": "stream",
     "text": [
      "MEX (75.08) x BRA (76.06)\n",
      "FRA (96.01) x BEL (90.81)\n"
     ]
    }
   ],
   "source": [
    "finalista1 = None\n",
    "terceiro1 = None\n",
    "if semi1A.motivate() > semi1B.motivate():\n",
    "    finalista1 = semi1A\n",
    "    terceiro1 = semi1B\n",
    "else:\n",
    "    finalista1 = semi1B\n",
    "    terceiro1 = semi1A\n",
    "\n",
    "finalista2 = None\n",
    "terceiro2 = None\n",
    "if semi2A.motivate() > semi2B.motivate():\n",
    "    finalista2 = semi2A\n",
    "    terceiro2 = semi2B\n",
    "else: \n",
    "    finalista2 = semi2B\n",
    "    terceiro2 = semi2A\n",
    "\n",
    "print(f'{semi1A.name} ({semi1A.lastMotivation:.2f}) x {semi1B.name} ({semi1B.lastMotivation:.2f})')\n",
    "print(f'{semi2A.name} ({semi2A.lastMotivation:.2f}) x {semi2B.name} ({semi2B.lastMotivation:.2f})')"
   ]
  },
  {
   "cell_type": "code",
   "execution_count": 51,
   "metadata": {},
   "outputs": [
    {
     "name": "stdout",
     "output_type": "stream",
     "text": [
      "Grande Final: BRA (91.31) x FRA (72.46)\n",
      "Disputa de terceiro lugar: MEX (85.55) x BEL (93.09)\n"
     ]
    }
   ],
   "source": [
    "winner = finalista1 if finalista1.motivate() > finalista2.motivate() else finalista2\n",
    "second = finalista1 if finalista1.lastMotivation < finalista2.lastMotivation else finalista2\n",
    "\n",
    "third = terceiro1 if terceiro1.motivate() > terceiro2.motivate() else terceiro2\n",
    "fourth = terceiro1 if terceiro1.lastMotivation < terceiro2.lastMotivation else terceiro2\n",
    "\n",
    "print(f'Grande Final: {finalista1.name} ({finalista1.lastMotivation:.2f}) x {finalista2.name} ({finalista2.lastMotivation:.2f})')\n",
    "print(f'Disputa de terceiro lugar: {terceiro1.name} ({terceiro1.lastMotivation:.2f}) x {terceiro2.name} ({terceiro2.lastMotivation:.2f})')"
   ]
  },
  {
   "cell_type": "code",
   "execution_count": 52,
   "metadata": {},
   "outputs": [
    {
     "name": "stdout",
     "output_type": "stream",
     "text": [
      "1º lugar: BRA\n",
      "2º lugar: FRA\n",
      "3º lugar: BEL\n"
     ]
    }
   ],
   "source": [
    "print(f'1º lugar: {winner.name}')\n",
    "print(f'2º lugar: {second.name}')\n",
    "print(f'3º lugar: {third.name}')"
   ]
  }
 ],
 "metadata": {
  "kernelspec": {
   "display_name": "Python 3.10.5 64-bit",
   "language": "python",
   "name": "python3"
  },
  "language_info": {
   "codemirror_mode": {
    "name": "ipython",
    "version": 3
   },
   "file_extension": ".py",
   "mimetype": "text/x-python",
   "name": "python",
   "nbconvert_exporter": "python",
   "pygments_lexer": "ipython3",
   "version": "3.10.5"
  },
  "orig_nbformat": 4,
  "vscode": {
   "interpreter": {
    "hash": "f8a8e54a0170a12dec51dd7d151c14f4499bc6eefba2b8b73868459fdf234532"
   }
  }
 },
 "nbformat": 4,
 "nbformat_minor": 2
}
